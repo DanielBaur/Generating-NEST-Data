{
 "cells": [
  {
   "cell_type": "markdown",
   "metadata": {},
   "source": [
    "<h1><center> Generating NEST Data </center></h1>"
   ]
  },
  {
   "cell_type": "markdown",
   "metadata": {},
   "source": [
    "Last Modified: By Daniel Baur on 03rd February 2020\n",
    "\n",
    "This notebook is essentially the \"lite\" version of SFS. With it you can easily determine the number of primary quanta for a given event in a LXe TPC (interaction type, drift field, energy deposition, sample size) utilizing NEST. You need to have NEST installed on your local machine.\n",
    "\n",
    "All you need to do is to adapt the input of the chapter 1 cells (comments tell you what to do) and run the whole notebook.\n",
    "\n",
    "What this notebook cannot do:\n",
    "- include detector properties in order to obtain S1 and S2 signal in terms of photoelectrons instead of primary quanta (The primary quanta are independent from detector properties, e.g. lce, qe, ce, ...)\n",
    "- spectra processing (You need a MC processor for such things. Maybe take a look at Signal Formation or ask the DARWIN MC team (i.e. Yanina).)\n"
   ]
  },
  {
   "cell_type": "markdown",
   "metadata": {},
   "source": [
    "### Table of Contents"
   ]
  },
  {
   "cell_type": "markdown",
   "metadata": {},
   "source": [
    "\n",
    "0. **[Imports](#0.-Imports)**<br>\n",
    "\n",
    "\n",
    "1. **[User Input](#1.-User-Input)**<br>\n",
    "\n",
    "\n",
    "2. **[Quanta Generation with NEST](#2.-Quanta-Generation-with-NEST)**<br>\n",
    "\n",
    "\n",
    "3. **[Postprocessing](#3.-Postprocessing)**<br>\n"
   ]
  },
  {
   "cell_type": "markdown",
   "metadata": {},
   "source": [
    "\n"
   ]
  },
  {
   "cell_type": "markdown",
   "metadata": {},
   "source": [
    "# 0. Imports"
   ]
  },
  {
   "cell_type": "code",
   "execution_count": 1,
   "metadata": {},
   "outputs": [],
   "source": [
    "import matplotlib as mpl\n",
    "import matplotlib.pyplot as plt\n",
    "import numpy as np\n",
    "from scipy import stats\n",
    "from scipy.special import binom as binomcoeff\n",
    "from scipy.optimize import curve_fit\n",
    "from scipy.integrate import quad\n",
    "import datetime\n",
    "import pprint\n",
    "import math\n",
    "import os\n",
    "from matplotlib.ticker import AutoMinorLocator\n",
    "import subprocess\n",
    "\n",
    "import Generating_NEST_Data as gnd"
   ]
  },
  {
   "cell_type": "markdown",
   "metadata": {},
   "source": [
    "\n"
   ]
  },
  {
   "cell_type": "markdown",
   "metadata": {},
   "source": [
    "\n"
   ]
  },
  {
   "cell_type": "markdown",
   "metadata": {},
   "source": [
    "\n"
   ]
  },
  {
   "cell_type": "markdown",
   "metadata": {},
   "source": [
    "# 1. User Input"
   ]
  },
  {
   "cell_type": "markdown",
   "metadata": {},
   "source": [
    "From the Input specified below the list `run_list` will be generated. The `i-th` Element of the run list is again a sublist of the form\n",
    "- `run_list[i][0]` --->   number of events of the same kind (`int`)\n",
    "- `run_list[i][1]` --->   interaction type (`string`, either `\"ER\"` or `\"NR\"`)\n",
    "- `run_list[i][2]` --->   energy deposition in $\\mathrm{keV_{nr}}$ or $\\mathrm{keV_{ee}}$ respectively (`float`)\n",
    "- `run_list[i][3]` --->   electrical drift field strength in $\\mathrm{\\frac{V}{cm}}$ (`float`)<br>\n",
    "\n",
    "and its entries will be passed to NEST as arguments. Each of the processed run-sublists will then be saved as a np.array (.npy).<br>\n",
    "\n",
    "remark: The executable `testNEST` is executed via:<br>\n",
    "`$ ./testNEST numEvts type_interaction E_min[kev] E_max[keV] field_drift[V/cm] x,y,z-position[mm] {optional:seed}`\n"
   ]
  },
  {
   "cell_type": "markdown",
   "metadata": {},
   "source": [
    "#### Paths"
   ]
  },
  {
   "cell_type": "code",
   "execution_count": 2,
   "metadata": {},
   "outputs": [],
   "source": [
    "run_name = gnd.datestring() +\"__ER_gnampfinos_for_Daniel\"\n",
    "output_string = \"./OUTPUT_Generating_NEST_Data/\" # <---- don't modify this line unless you really have to (default: output_string = \"./OUTPUT_Generating_NEST_Data/\")\n",
    "nestpath = \"/scratch/db1086/NEST2/install/testNEST\" # <---- don't modify this line unless you really have to (default: nestpath = \"/home/db1086/NEST/install/testNEST\")"
   ]
  },
  {
   "cell_type": "markdown",
   "metadata": {},
   "source": [
    "#### Manual Input"
   ]
  },
  {
   "cell_type": "code",
   "execution_count": 3,
   "metadata": {},
   "outputs": [],
   "source": [
    "flag_manual_input = False\n",
    "\n",
    "manual_run_list = [\n",
    "    #[<number_of_samples_per_energy(int)>, <interaction_type(string, \"ER\" or \"NR\")>, <energy_deposition_in_keV(float)>, <drift_field_strength>],\n",
    "    #[50, \"ER\", 9.3967, 500],\n",
    "    [10000, \"ER\", 32.0, 6000],\n",
    "    [10000, \"ER\", 41.0, 6000]\n",
    "]"
   ]
  },
  {
   "cell_type": "markdown",
   "metadata": {},
   "source": [
    "#### Parameter Range Input"
   ]
  },
  {
   "cell_type": "code",
   "execution_count": 4,
   "metadata": {},
   "outputs": [],
   "source": [
    "flag_parameter_range = True\n",
    "\n",
    "param__number_of_events_per_paramter_samples = [100] # usually there should be just one entry in this list\n",
    "param__interaction_type = [\"ER\"] # usually there should be just one entry in this list\n",
    "param__energy_deposition = [50,100,200,300,400,500,600,800,1000,1200,1400,1600,1800,2000,2200,2400,2600,2800,3000]\n",
    "param__e_drift = [100, 200, 500]"
   ]
  },
  {
   "cell_type": "markdown",
   "metadata": {},
   "source": [
    "\n"
   ]
  },
  {
   "cell_type": "markdown",
   "metadata": {},
   "source": [
    "\n"
   ]
  },
  {
   "cell_type": "markdown",
   "metadata": {},
   "source": [
    "\n"
   ]
  },
  {
   "cell_type": "markdown",
   "metadata": {},
   "source": [
    "# 2. Quanta Generation with NEST"
   ]
  },
  {
   "cell_type": "code",
   "execution_count": 5,
   "metadata": {},
   "outputs": [
    {
     "name": "stdout",
     "output_type": "stream",
     "text": [
      "run_list = [\n",
      "     [100, 'ER', 50, 100]\n",
      "     [100, 'ER', 50, 200]\n",
      "     [100, 'ER', 50, 500]\n",
      "     [100, 'ER', 100, 100]\n",
      "     [100, 'ER', 100, 200]\n",
      "     [100, 'ER', 100, 500]\n",
      "     [100, 'ER', 200, 100]\n",
      "     [100, 'ER', 200, 200]\n",
      "     [100, 'ER', 200, 500]\n",
      "     [100, 'ER', 300, 100]\n",
      "     [100, 'ER', 300, 200]\n",
      "     [100, 'ER', 300, 500]\n",
      "     [100, 'ER', 400, 100]\n",
      "     [100, 'ER', 400, 200]\n",
      "     [100, 'ER', 400, 500]\n",
      "     [100, 'ER', 500, 100]\n",
      "     [100, 'ER', 500, 200]\n",
      "     [100, 'ER', 500, 500]\n",
      "     [100, 'ER', 600, 100]\n",
      "     [100, 'ER', 600, 200]\n",
      "     [100, 'ER', 600, 500]\n",
      "     [100, 'ER', 800, 100]\n",
      "     [100, 'ER', 800, 200]\n",
      "     [100, 'ER', 800, 500]\n",
      "     [100, 'ER', 1000, 100]\n",
      "     [100, 'ER', 1000, 200]\n",
      "     [100, 'ER', 1000, 500]\n",
      "     [100, 'ER', 1200, 100]\n",
      "     [100, 'ER', 1200, 200]\n",
      "     [100, 'ER', 1200, 500]\n",
      "     [100, 'ER', 1400, 100]\n",
      "     [100, 'ER', 1400, 200]\n",
      "     [100, 'ER', 1400, 500]\n",
      "     [100, 'ER', 1600, 100]\n",
      "     [100, 'ER', 1600, 200]\n",
      "     [100, 'ER', 1600, 500]\n",
      "     [100, 'ER', 1800, 100]\n",
      "     [100, 'ER', 1800, 200]\n",
      "     [100, 'ER', 1800, 500]\n",
      "     [100, 'ER', 2000, 100]\n",
      "     [100, 'ER', 2000, 200]\n",
      "     [100, 'ER', 2000, 500]\n",
      "     [100, 'ER', 2200, 100]\n",
      "     [100, 'ER', 2200, 200]\n",
      "     [100, 'ER', 2200, 500]\n",
      "     [100, 'ER', 2400, 100]\n",
      "     [100, 'ER', 2400, 200]\n",
      "     [100, 'ER', 2400, 500]\n",
      "     [100, 'ER', 2600, 100]\n",
      "     [100, 'ER', 2600, 200]\n",
      "     [100, 'ER', 2600, 500]\n",
      "     [100, 'ER', 2800, 100]\n",
      "     [100, 'ER', 2800, 200]\n",
      "     [100, 'ER', 2800, 500]\n",
      "     [100, 'ER', 3000, 100]\n",
      "     [100, 'ER', 3000, 200]\n",
      "     [100, 'ER', 3000, 500]\n",
      "    ]\n",
      "\n",
      "Starting Run: 20200204__ER_gnampfinos_for_Daniel\n",
      "\n",
      "The NEST run --->  EVENTS_100__INTERACTION_ER__ENERGY_50__EDRIFT_100  <--- was saved successfully (.txt and .npy).\n",
      "The NEST run --->  EVENTS_100__INTERACTION_ER__ENERGY_50__EDRIFT_200  <--- was saved successfully (.txt and .npy).\n",
      "The NEST run --->  EVENTS_100__INTERACTION_ER__ENERGY_50__EDRIFT_500  <--- was saved successfully (.txt and .npy).\n",
      "The NEST run --->  EVENTS_100__INTERACTION_ER__ENERGY_100__EDRIFT_100  <--- was saved successfully (.txt and .npy).\n",
      "The NEST run --->  EVENTS_100__INTERACTION_ER__ENERGY_100__EDRIFT_200  <--- was saved successfully (.txt and .npy).\n",
      "The NEST run --->  EVENTS_100__INTERACTION_ER__ENERGY_100__EDRIFT_500  <--- was saved successfully (.txt and .npy).\n",
      "The NEST run --->  EVENTS_100__INTERACTION_ER__ENERGY_200__EDRIFT_100  <--- was saved successfully (.txt and .npy).\n",
      "The NEST run --->  EVENTS_100__INTERACTION_ER__ENERGY_200__EDRIFT_200  <--- was saved successfully (.txt and .npy).\n",
      "The NEST run --->  EVENTS_100__INTERACTION_ER__ENERGY_200__EDRIFT_500  <--- was saved successfully (.txt and .npy).\n",
      "The NEST run --->  EVENTS_100__INTERACTION_ER__ENERGY_300__EDRIFT_100  <--- was saved successfully (.txt and .npy).\n",
      "The NEST run --->  EVENTS_100__INTERACTION_ER__ENERGY_300__EDRIFT_200  <--- was saved successfully (.txt and .npy).\n",
      "The NEST run --->  EVENTS_100__INTERACTION_ER__ENERGY_300__EDRIFT_500  <--- was saved successfully (.txt and .npy).\n",
      "The NEST run --->  EVENTS_100__INTERACTION_ER__ENERGY_400__EDRIFT_100  <--- was saved successfully (.txt and .npy).\n",
      "The NEST run --->  EVENTS_100__INTERACTION_ER__ENERGY_400__EDRIFT_200  <--- was saved successfully (.txt and .npy).\n",
      "The NEST run --->  EVENTS_100__INTERACTION_ER__ENERGY_400__EDRIFT_500  <--- was saved successfully (.txt and .npy).\n",
      "The NEST run --->  EVENTS_100__INTERACTION_ER__ENERGY_500__EDRIFT_100  <--- was saved successfully (.txt and .npy).\n",
      "The NEST run --->  EVENTS_100__INTERACTION_ER__ENERGY_500__EDRIFT_200  <--- was saved successfully (.txt and .npy).\n",
      "The NEST run --->  EVENTS_100__INTERACTION_ER__ENERGY_500__EDRIFT_500  <--- was saved successfully (.txt and .npy).\n",
      "The NEST run --->  EVENTS_100__INTERACTION_ER__ENERGY_600__EDRIFT_100  <--- was saved successfully (.txt and .npy).\n",
      "The NEST run --->  EVENTS_100__INTERACTION_ER__ENERGY_600__EDRIFT_200  <--- was saved successfully (.txt and .npy).\n",
      "The NEST run --->  EVENTS_100__INTERACTION_ER__ENERGY_600__EDRIFT_500  <--- was saved successfully (.txt and .npy).\n",
      "The NEST run --->  EVENTS_100__INTERACTION_ER__ENERGY_800__EDRIFT_100  <--- was saved successfully (.txt and .npy).\n",
      "The NEST run --->  EVENTS_100__INTERACTION_ER__ENERGY_800__EDRIFT_200  <--- was saved successfully (.txt and .npy).\n",
      "The NEST run --->  EVENTS_100__INTERACTION_ER__ENERGY_800__EDRIFT_500  <--- was saved successfully (.txt and .npy).\n",
      "The NEST run --->  EVENTS_100__INTERACTION_ER__ENERGY_1000__EDRIFT_100  <--- was saved successfully (.txt and .npy).\n",
      "The NEST run --->  EVENTS_100__INTERACTION_ER__ENERGY_1000__EDRIFT_200  <--- was saved successfully (.txt and .npy).\n",
      "The NEST run --->  EVENTS_100__INTERACTION_ER__ENERGY_1000__EDRIFT_500  <--- was saved successfully (.txt and .npy).\n",
      "The NEST run --->  EVENTS_100__INTERACTION_ER__ENERGY_1200__EDRIFT_100  <--- was saved successfully (.txt and .npy).\n",
      "The NEST run --->  EVENTS_100__INTERACTION_ER__ENERGY_1200__EDRIFT_200  <--- was saved successfully (.txt and .npy).\n",
      "The NEST run --->  EVENTS_100__INTERACTION_ER__ENERGY_1200__EDRIFT_500  <--- was saved successfully (.txt and .npy).\n",
      "The NEST run --->  EVENTS_100__INTERACTION_ER__ENERGY_1400__EDRIFT_100  <--- was saved successfully (.txt and .npy).\n",
      "The NEST run --->  EVENTS_100__INTERACTION_ER__ENERGY_1400__EDRIFT_200  <--- was saved successfully (.txt and .npy).\n",
      "The NEST run --->  EVENTS_100__INTERACTION_ER__ENERGY_1400__EDRIFT_500  <--- was saved successfully (.txt and .npy).\n",
      "The NEST run --->  EVENTS_100__INTERACTION_ER__ENERGY_1600__EDRIFT_100  <--- was saved successfully (.txt and .npy).\n",
      "The NEST run --->  EVENTS_100__INTERACTION_ER__ENERGY_1600__EDRIFT_200  <--- was saved successfully (.txt and .npy).\n",
      "The NEST run --->  EVENTS_100__INTERACTION_ER__ENERGY_1600__EDRIFT_500  <--- was saved successfully (.txt and .npy).\n",
      "The NEST run --->  EVENTS_100__INTERACTION_ER__ENERGY_1800__EDRIFT_100  <--- was saved successfully (.txt and .npy).\n",
      "The NEST run --->  EVENTS_100__INTERACTION_ER__ENERGY_1800__EDRIFT_200  <--- was saved successfully (.txt and .npy).\n",
      "The NEST run --->  EVENTS_100__INTERACTION_ER__ENERGY_1800__EDRIFT_500  <--- was saved successfully (.txt and .npy).\n",
      "The NEST run --->  EVENTS_100__INTERACTION_ER__ENERGY_2000__EDRIFT_100  <--- was saved successfully (.txt and .npy).\n",
      "The NEST run --->  EVENTS_100__INTERACTION_ER__ENERGY_2000__EDRIFT_200  <--- was saved successfully (.txt and .npy).\n",
      "The NEST run --->  EVENTS_100__INTERACTION_ER__ENERGY_2000__EDRIFT_500  <--- was saved successfully (.txt and .npy).\n",
      "The NEST run --->  EVENTS_100__INTERACTION_ER__ENERGY_2200__EDRIFT_100  <--- was saved successfully (.txt and .npy).\n",
      "The NEST run --->  EVENTS_100__INTERACTION_ER__ENERGY_2200__EDRIFT_200  <--- was saved successfully (.txt and .npy).\n",
      "The NEST run --->  EVENTS_100__INTERACTION_ER__ENERGY_2200__EDRIFT_500  <--- was saved successfully (.txt and .npy).\n",
      "The NEST run --->  EVENTS_100__INTERACTION_ER__ENERGY_2400__EDRIFT_100  <--- was saved successfully (.txt and .npy).\n",
      "The NEST run --->  EVENTS_100__INTERACTION_ER__ENERGY_2400__EDRIFT_200  <--- was saved successfully (.txt and .npy).\n",
      "The NEST run --->  EVENTS_100__INTERACTION_ER__ENERGY_2400__EDRIFT_500  <--- was saved successfully (.txt and .npy).\n",
      "The NEST run --->  EVENTS_100__INTERACTION_ER__ENERGY_2600__EDRIFT_100  <--- was saved successfully (.txt and .npy).\n",
      "The NEST run --->  EVENTS_100__INTERACTION_ER__ENERGY_2600__EDRIFT_200  <--- was saved successfully (.txt and .npy).\n",
      "The NEST run --->  EVENTS_100__INTERACTION_ER__ENERGY_2600__EDRIFT_500  <--- was saved successfully (.txt and .npy).\n",
      "The NEST run --->  EVENTS_100__INTERACTION_ER__ENERGY_2800__EDRIFT_100  <--- was saved successfully (.txt and .npy).\n",
      "The NEST run --->  EVENTS_100__INTERACTION_ER__ENERGY_2800__EDRIFT_200  <--- was saved successfully (.txt and .npy).\n",
      "The NEST run --->  EVENTS_100__INTERACTION_ER__ENERGY_2800__EDRIFT_500  <--- was saved successfully (.txt and .npy).\n",
      "The NEST run --->  EVENTS_100__INTERACTION_ER__ENERGY_3000__EDRIFT_100  <--- was saved successfully (.txt and .npy).\n",
      "The NEST run --->  EVENTS_100__INTERACTION_ER__ENERGY_3000__EDRIFT_200  <--- was saved successfully (.txt and .npy).\n",
      "The NEST run --->  EVENTS_100__INTERACTION_ER__ENERGY_3000__EDRIFT_500  <--- was saved successfully (.txt and .npy).\n",
      "\n",
      "Generating Single Output Array: 20200204__ER_gnampfinos_for_Daniel.npy\n",
      "\n",
      "Finished Run: 20200204__ER_gnampfinos_for_Daniel\n"
     ]
    }
   ],
   "source": [
    "\n",
    "# Setting the Flags\n",
    "flag_runNEST = True  # <-- if set to \"False\" then NEST will not be run\n",
    "flag_saveasonearray = True  # <-- if set to \"False\" then you will receive one .npy file for each subdataset\n",
    "\n",
    "\n",
    "# Compiling the run_list from the Input Above\n",
    "run_list = gnd.get_run_list(flag_manual=flag_manual_input, flag_sweep=flag_parameter_range, list_manual=manual_run_list, p_noe=param__number_of_events_per_paramter_samples, p_it=param__interaction_type, p_ed=param__energy_deposition, p_edrift=param__e_drift)\n",
    "\n",
    "\n",
    "# Running NEST\n",
    "gnd.run_NEST(runNEST=flag_runNEST, runlist=run_list, runname=run_name, nestp=nestpath, outputp=output_string, saveasonearray=flag_saveasonearray)\n"
   ]
  },
  {
   "cell_type": "markdown",
   "metadata": {},
   "source": [
    "\n"
   ]
  },
  {
   "cell_type": "markdown",
   "metadata": {},
   "source": [
    "\n"
   ]
  },
  {
   "cell_type": "markdown",
   "metadata": {},
   "source": [
    "\n"
   ]
  },
  {
   "cell_type": "markdown",
   "metadata": {},
   "source": [
    "# 3. Postprocessing"
   ]
  },
  {
   "cell_type": "code",
   "execution_count": 6,
   "metadata": {},
   "outputs": [
    {
     "name": "stdout",
     "output_type": "stream",
     "text": [
      "#############################################################\n",
      "Starting: Generating Processed ndarray\n",
      "#############################################################\n",
      "\n",
      "Processing Conatenated File: 20200204__ER_gnampfinos_for_Daniel.npy\n",
      "\n",
      "Subsets (interaction_type, energy_deposition, field_strength):\n",
      "['ER', 50.0, 100.0]\n",
      "['ER', 50.0, 200.0]\n",
      "['ER', 50.0, 500.0]\n",
      "['ER', 100.0, 100.0]\n",
      "['ER', 100.0, 200.0]\n",
      "['ER', 100.0, 500.0]\n",
      "['ER', 200.0, 100.0]\n",
      "['ER', 200.0, 200.0]\n",
      "['ER', 200.0, 500.0]\n",
      "['ER', 300.0, 100.0]\n",
      "['ER', 300.0, 200.0]\n",
      "['ER', 300.0, 500.0]\n",
      "['ER', 400.0, 100.0]\n",
      "['ER', 400.0, 200.0]\n",
      "['ER', 400.0, 500.0]\n",
      "['ER', 500.0, 100.0]\n",
      "['ER', 500.0, 200.0]\n",
      "['ER', 500.0, 500.0]\n",
      "['ER', 600.0, 100.0]\n",
      "['ER', 600.0, 200.0]\n",
      "['ER', 600.0, 500.0]\n",
      "['ER', 800.0, 100.0]\n",
      "['ER', 800.0, 200.0]\n",
      "['ER', 800.0, 500.0]\n",
      "['ER', 1000.0, 100.0]\n",
      "['ER', 1000.0, 200.0]\n",
      "['ER', 1000.0, 500.0]\n",
      "['ER', 1200.0, 100.0]\n",
      "['ER', 1200.0, 200.0]\n",
      "['ER', 1200.0, 500.0]\n",
      "['ER', 1400.0, 100.0]\n",
      "['ER', 1400.0, 200.0]\n",
      "['ER', 1400.0, 500.0]\n",
      "['ER', 1600.0, 100.0]\n",
      "['ER', 1600.0, 200.0]\n",
      "['ER', 1600.0, 500.0]\n",
      "['ER', 1800.0, 100.0]\n",
      "['ER', 1800.0, 200.0]\n",
      "['ER', 1800.0, 500.0]\n",
      "['ER', 2000.0, 100.0]\n",
      "['ER', 2000.0, 200.0]\n",
      "['ER', 2000.0, 500.0]\n",
      "['ER', 2200.0, 100.0]\n",
      "['ER', 2200.0, 200.0]\n",
      "['ER', 2200.0, 500.0]\n",
      "['ER', 2400.0, 100.0]\n",
      "['ER', 2400.0, 200.0]\n",
      "['ER', 2400.0, 500.0]\n",
      "['ER', 2600.0, 100.0]\n",
      "['ER', 2600.0, 200.0]\n",
      "['ER', 2600.0, 500.0]\n",
      "['ER', 2800.0, 100.0]\n",
      "['ER', 2800.0, 200.0]\n",
      "['ER', 2800.0, 500.0]\n",
      "['ER', 3000.0, 100.0]\n",
      "['ER', 3000.0, 200.0]\n",
      "['ER', 3000.0, 500.0]\n",
      "Saving Summarized File: 20200204__ER_gnampfinos_for_Daniel__PROCESSED.npy\n",
      "\n",
      "Saving Summarized File: 20200204__ER_gnampfinos_for_Daniel__PROCESSED.npy\n",
      "\n",
      "Saving Summarized File: 20200204__ER_gnampfinos_for_Daniel__PROCESSED.npy\n",
      "\n",
      "Saving Summarized File: 20200204__ER_gnampfinos_for_Daniel__PROCESSED.npy\n",
      "\n",
      "Saving Summarized File: 20200204__ER_gnampfinos_for_Daniel__PROCESSED.npy\n",
      "\n",
      "Saving Summarized File: 20200204__ER_gnampfinos_for_Daniel__PROCESSED.npy\n",
      "\n",
      "Saving Summarized File: 20200204__ER_gnampfinos_for_Daniel__PROCESSED.npy\n",
      "\n",
      "Saving Summarized File: 20200204__ER_gnampfinos_for_Daniel__PROCESSED.npy\n",
      "\n",
      "Saving Summarized File: 20200204__ER_gnampfinos_for_Daniel__PROCESSED.npy\n",
      "\n",
      "Saving Summarized File: 20200204__ER_gnampfinos_for_Daniel__PROCESSED.npy\n",
      "\n",
      "Saving Summarized File: 20200204__ER_gnampfinos_for_Daniel__PROCESSED.npy\n",
      "\n",
      "Saving Summarized File: 20200204__ER_gnampfinos_for_Daniel__PROCESSED.npy\n",
      "\n",
      "Saving Summarized File: 20200204__ER_gnampfinos_for_Daniel__PROCESSED.npy\n",
      "\n",
      "Saving Summarized File: 20200204__ER_gnampfinos_for_Daniel__PROCESSED.npy\n",
      "\n",
      "Saving Summarized File: 20200204__ER_gnampfinos_for_Daniel__PROCESSED.npy\n",
      "\n",
      "Saving Summarized File: 20200204__ER_gnampfinos_for_Daniel__PROCESSED.npy\n",
      "\n",
      "Saving Summarized File: 20200204__ER_gnampfinos_for_Daniel__PROCESSED.npy\n",
      "\n",
      "Saving Summarized File: 20200204__ER_gnampfinos_for_Daniel__PROCESSED.npy\n",
      "\n",
      "Saving Summarized File: 20200204__ER_gnampfinos_for_Daniel__PROCESSED.npy\n",
      "\n",
      "Saving Summarized File: 20200204__ER_gnampfinos_for_Daniel__PROCESSED.npy\n",
      "\n",
      "Saving Summarized File: 20200204__ER_gnampfinos_for_Daniel__PROCESSED.npy\n",
      "\n",
      "Saving Summarized File: 20200204__ER_gnampfinos_for_Daniel__PROCESSED.npy\n",
      "\n",
      "Saving Summarized File: 20200204__ER_gnampfinos_for_Daniel__PROCESSED.npy\n",
      "\n",
      "Saving Summarized File: 20200204__ER_gnampfinos_for_Daniel__PROCESSED.npy\n",
      "\n",
      "Saving Summarized File: 20200204__ER_gnampfinos_for_Daniel__PROCESSED.npy\n",
      "\n",
      "Saving Summarized File: 20200204__ER_gnampfinos_for_Daniel__PROCESSED.npy\n",
      "\n",
      "Saving Summarized File: 20200204__ER_gnampfinos_for_Daniel__PROCESSED.npy\n",
      "\n",
      "Saving Summarized File: 20200204__ER_gnampfinos_for_Daniel__PROCESSED.npy\n",
      "\n",
      "Saving Summarized File: 20200204__ER_gnampfinos_for_Daniel__PROCESSED.npy\n",
      "\n",
      "Saving Summarized File: 20200204__ER_gnampfinos_for_Daniel__PROCESSED.npy\n",
      "\n",
      "Saving Summarized File: 20200204__ER_gnampfinos_for_Daniel__PROCESSED.npy\n",
      "\n",
      "Saving Summarized File: 20200204__ER_gnampfinos_for_Daniel__PROCESSED.npy\n",
      "\n",
      "Saving Summarized File: 20200204__ER_gnampfinos_for_Daniel__PROCESSED.npy\n",
      "\n",
      "Saving Summarized File: 20200204__ER_gnampfinos_for_Daniel__PROCESSED.npy\n",
      "\n",
      "Saving Summarized File: 20200204__ER_gnampfinos_for_Daniel__PROCESSED.npy\n",
      "\n",
      "Saving Summarized File: 20200204__ER_gnampfinos_for_Daniel__PROCESSED.npy\n",
      "\n",
      "Saving Summarized File: 20200204__ER_gnampfinos_for_Daniel__PROCESSED.npy\n",
      "\n",
      "Saving Summarized File: 20200204__ER_gnampfinos_for_Daniel__PROCESSED.npy\n",
      "\n",
      "Saving Summarized File: 20200204__ER_gnampfinos_for_Daniel__PROCESSED.npy\n",
      "\n",
      "Saving Summarized File: 20200204__ER_gnampfinos_for_Daniel__PROCESSED.npy\n",
      "\n",
      "Saving Summarized File: 20200204__ER_gnampfinos_for_Daniel__PROCESSED.npy\n",
      "\n",
      "Saving Summarized File: 20200204__ER_gnampfinos_for_Daniel__PROCESSED.npy\n",
      "\n",
      "Saving Summarized File: 20200204__ER_gnampfinos_for_Daniel__PROCESSED.npy\n",
      "\n",
      "Saving Summarized File: 20200204__ER_gnampfinos_for_Daniel__PROCESSED.npy\n",
      "\n",
      "Saving Summarized File: 20200204__ER_gnampfinos_for_Daniel__PROCESSED.npy\n",
      "\n",
      "Saving Summarized File: 20200204__ER_gnampfinos_for_Daniel__PROCESSED.npy\n",
      "\n",
      "Saving Summarized File: 20200204__ER_gnampfinos_for_Daniel__PROCESSED.npy\n",
      "\n",
      "Saving Summarized File: 20200204__ER_gnampfinos_for_Daniel__PROCESSED.npy\n",
      "\n",
      "Saving Summarized File: 20200204__ER_gnampfinos_for_Daniel__PROCESSED.npy\n",
      "\n",
      "Saving Summarized File: 20200204__ER_gnampfinos_for_Daniel__PROCESSED.npy\n",
      "\n",
      "Saving Summarized File: 20200204__ER_gnampfinos_for_Daniel__PROCESSED.npy\n",
      "\n",
      "Saving Summarized File: 20200204__ER_gnampfinos_for_Daniel__PROCESSED.npy\n",
      "\n",
      "Saving Summarized File: 20200204__ER_gnampfinos_for_Daniel__PROCESSED.npy\n",
      "\n",
      "Saving Summarized File: 20200204__ER_gnampfinos_for_Daniel__PROCESSED.npy\n",
      "\n",
      "Saving Summarized File: 20200204__ER_gnampfinos_for_Daniel__PROCESSED.npy\n",
      "\n",
      "Saving Summarized File: 20200204__ER_gnampfinos_for_Daniel__PROCESSED.npy\n",
      "\n",
      "Saving Summarized File: 20200204__ER_gnampfinos_for_Daniel__PROCESSED.npy\n",
      "\n",
      "#############################################################\n",
      "Finished: Generating Processed ndarray\n",
      "#############################################################\n",
      "\n"
     ]
    },
    {
     "name": "stderr",
     "output_type": "stream",
     "text": [
      "/scratch/db1086/DARWIN_TaskStuff/20190109__Signal_Formation/Generating_NEST_Data/Generating_NEST_Data.py:197: RuntimeWarning: overflow encountered in ushort_scalars\n",
      "  return math.sqrt(sum(n*n for n in num)/len(num))\n"
     ]
    }
   ],
   "source": [
    "\n",
    "gnd.gen_summarized_ndarray(outputfolder=output_string, runname=run_name)\n"
   ]
  }
 ],
 "metadata": {
  "kernelspec": {
   "display_name": "Python 3",
   "language": "python",
   "name": "python3"
  },
  "language_info": {
   "codemirror_mode": {
    "name": "ipython",
    "version": 3
   },
   "file_extension": ".py",
   "mimetype": "text/x-python",
   "name": "python",
   "nbconvert_exporter": "python",
   "pygments_lexer": "ipython3",
   "version": "3.7.1"
  }
 },
 "nbformat": 4,
 "nbformat_minor": 2
}
